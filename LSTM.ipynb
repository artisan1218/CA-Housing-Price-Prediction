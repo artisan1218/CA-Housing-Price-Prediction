{
 "cells": [
  {
   "cell_type": "code",
   "execution_count": 1,
   "id": "ec129aed",
   "metadata": {},
   "outputs": [],
   "source": [
    "import pandas as pd\n",
    "import numpy as np\n",
    "from sklearn.model_selection import train_test_split\n",
    "from sklearn.preprocessing import MinMaxScaler\n",
    "from sklearn.metrics import mean_squared_error\n",
    "from sklearn.metrics import explained_variance_score\n",
    "from matplotlib import pyplot\n",
    "import matplotlib.pyplot as plt\n",
    "from tensorflow import keras\n",
    "from keras.models import Sequential \n",
    "from keras.layers import Dense\n",
    "from keras.layers import LSTM\n",
    "from keras.layers import Dropout\n",
    "from keras.layers import Activation"
   ]
  },
  {
   "cell_type": "code",
   "execution_count": 2,
   "id": "cf38bece",
   "metadata": {},
   "outputs": [],
   "source": [
    "import math"
   ]
  },
  {
   "cell_type": "code",
   "execution_count": 25,
   "id": "f5f69ff0",
   "metadata": {},
   "outputs": [
    {
     "data": {
      "text/html": [
       "<div>\n",
       "<style scoped>\n",
       "    .dataframe tbody tr th:only-of-type {\n",
       "        vertical-align: middle;\n",
       "    }\n",
       "\n",
       "    .dataframe tbody tr th {\n",
       "        vertical-align: top;\n",
       "    }\n",
       "\n",
       "    .dataframe thead th {\n",
       "        text-align: right;\n",
       "    }\n",
       "</style>\n",
       "<table border=\"1\" class=\"dataframe\">\n",
       "  <thead>\n",
       "    <tr style=\"text-align: right;\">\n",
       "      <th></th>\n",
       "      <th>price</th>\n",
       "      <th>Result</th>\n",
       "      <th>Polluted</th>\n",
       "      <th>Ratio</th>\n",
       "      <th>house_price_age</th>\n",
       "      <th>Alameda</th>\n",
       "      <th>Amador</th>\n",
       "      <th>Butte</th>\n",
       "      <th>Calaveras</th>\n",
       "      <th>Del Norte</th>\n",
       "      <th>...</th>\n",
       "      <th>p,p'-DDD</th>\n",
       "      <th>p,p'-DDE</th>\n",
       "      <th>p,p'-DDT</th>\n",
       "      <th>p-Xylene</th>\n",
       "      <th>pH</th>\n",
       "      <th>s,s,s-Tributyl Phosphorotrithioate (DEF)</th>\n",
       "      <th>sec-Butylbenzene</th>\n",
       "      <th>tert-Butylbenzene</th>\n",
       "      <th>trans-1,2-Dichloroethene</th>\n",
       "      <th>trans-1,3-Dichloropropene</th>\n",
       "    </tr>\n",
       "  </thead>\n",
       "  <tbody>\n",
       "    <tr>\n",
       "      <th>0</th>\n",
       "      <td>226149.0</td>\n",
       "      <td>120.0</td>\n",
       "      <td>1.0</td>\n",
       "      <td>12.0</td>\n",
       "      <td>32.0</td>\n",
       "      <td>1.0</td>\n",
       "      <td>0.0</td>\n",
       "      <td>0.0</td>\n",
       "      <td>0.0</td>\n",
       "      <td>0.0</td>\n",
       "      <td>...</td>\n",
       "      <td>0.0</td>\n",
       "      <td>0.0</td>\n",
       "      <td>0.0</td>\n",
       "      <td>0.0</td>\n",
       "      <td>0.0</td>\n",
       "      <td>0.0</td>\n",
       "      <td>0.0</td>\n",
       "      <td>0.0</td>\n",
       "      <td>0.0</td>\n",
       "      <td>0.0</td>\n",
       "    </tr>\n",
       "    <tr>\n",
       "      <th>1</th>\n",
       "      <td>226149.0</td>\n",
       "      <td>0.0</td>\n",
       "      <td>0.0</td>\n",
       "      <td>0.0</td>\n",
       "      <td>32.0</td>\n",
       "      <td>1.0</td>\n",
       "      <td>0.0</td>\n",
       "      <td>0.0</td>\n",
       "      <td>0.0</td>\n",
       "      <td>0.0</td>\n",
       "      <td>...</td>\n",
       "      <td>0.0</td>\n",
       "      <td>0.0</td>\n",
       "      <td>0.0</td>\n",
       "      <td>0.0</td>\n",
       "      <td>0.0</td>\n",
       "      <td>0.0</td>\n",
       "      <td>0.0</td>\n",
       "      <td>0.0</td>\n",
       "      <td>0.0</td>\n",
       "      <td>0.0</td>\n",
       "    </tr>\n",
       "    <tr>\n",
       "      <th>2</th>\n",
       "      <td>226149.0</td>\n",
       "      <td>360.0</td>\n",
       "      <td>1.0</td>\n",
       "      <td>36.0</td>\n",
       "      <td>32.0</td>\n",
       "      <td>1.0</td>\n",
       "      <td>0.0</td>\n",
       "      <td>0.0</td>\n",
       "      <td>0.0</td>\n",
       "      <td>0.0</td>\n",
       "      <td>...</td>\n",
       "      <td>0.0</td>\n",
       "      <td>0.0</td>\n",
       "      <td>0.0</td>\n",
       "      <td>0.0</td>\n",
       "      <td>0.0</td>\n",
       "      <td>0.0</td>\n",
       "      <td>0.0</td>\n",
       "      <td>0.0</td>\n",
       "      <td>0.0</td>\n",
       "      <td>0.0</td>\n",
       "    </tr>\n",
       "    <tr>\n",
       "      <th>3</th>\n",
       "      <td>226149.0</td>\n",
       "      <td>25.0</td>\n",
       "      <td>1.0</td>\n",
       "      <td>5.0</td>\n",
       "      <td>32.0</td>\n",
       "      <td>1.0</td>\n",
       "      <td>0.0</td>\n",
       "      <td>0.0</td>\n",
       "      <td>0.0</td>\n",
       "      <td>0.0</td>\n",
       "      <td>...</td>\n",
       "      <td>0.0</td>\n",
       "      <td>0.0</td>\n",
       "      <td>0.0</td>\n",
       "      <td>0.0</td>\n",
       "      <td>0.0</td>\n",
       "      <td>0.0</td>\n",
       "      <td>0.0</td>\n",
       "      <td>0.0</td>\n",
       "      <td>0.0</td>\n",
       "      <td>0.0</td>\n",
       "    </tr>\n",
       "    <tr>\n",
       "      <th>4</th>\n",
       "      <td>226149.0</td>\n",
       "      <td>849.0</td>\n",
       "      <td>1.0</td>\n",
       "      <td>849.0</td>\n",
       "      <td>32.0</td>\n",
       "      <td>1.0</td>\n",
       "      <td>0.0</td>\n",
       "      <td>0.0</td>\n",
       "      <td>0.0</td>\n",
       "      <td>0.0</td>\n",
       "      <td>...</td>\n",
       "      <td>0.0</td>\n",
       "      <td>0.0</td>\n",
       "      <td>0.0</td>\n",
       "      <td>0.0</td>\n",
       "      <td>0.0</td>\n",
       "      <td>0.0</td>\n",
       "      <td>0.0</td>\n",
       "      <td>0.0</td>\n",
       "      <td>0.0</td>\n",
       "      <td>0.0</td>\n",
       "    </tr>\n",
       "  </tbody>\n",
       "</table>\n",
       "<p>5 rows × 420 columns</p>\n",
       "</div>"
      ],
      "text/plain": [
       "      price  Result  Polluted  Ratio  house_price_age  Alameda  Amador  Butte  \\\n",
       "0  226149.0   120.0       1.0   12.0             32.0      1.0     0.0    0.0   \n",
       "1  226149.0     0.0       0.0    0.0             32.0      1.0     0.0    0.0   \n",
       "2  226149.0   360.0       1.0   36.0             32.0      1.0     0.0    0.0   \n",
       "3  226149.0    25.0       1.0    5.0             32.0      1.0     0.0    0.0   \n",
       "4  226149.0   849.0       1.0  849.0             32.0      1.0     0.0    0.0   \n",
       "\n",
       "   Calaveras  Del Norte  ...  p,p'-DDD  p,p'-DDE  p,p'-DDT  p-Xylene   pH  \\\n",
       "0        0.0        0.0  ...       0.0       0.0       0.0       0.0  0.0   \n",
       "1        0.0        0.0  ...       0.0       0.0       0.0       0.0  0.0   \n",
       "2        0.0        0.0  ...       0.0       0.0       0.0       0.0  0.0   \n",
       "3        0.0        0.0  ...       0.0       0.0       0.0       0.0  0.0   \n",
       "4        0.0        0.0  ...       0.0       0.0       0.0       0.0  0.0   \n",
       "\n",
       "   s,s,s-Tributyl Phosphorotrithioate (DEF)  sec-Butylbenzene  \\\n",
       "0                                       0.0               0.0   \n",
       "1                                       0.0               0.0   \n",
       "2                                       0.0               0.0   \n",
       "3                                       0.0               0.0   \n",
       "4                                       0.0               0.0   \n",
       "\n",
       "   tert-Butylbenzene  trans-1,2-Dichloroethene  trans-1,3-Dichloropropene  \n",
       "0                0.0                       0.0                        0.0  \n",
       "1                0.0                       0.0                        0.0  \n",
       "2                0.0                       0.0                        0.0  \n",
       "3                0.0                       0.0                        0.0  \n",
       "4                0.0                       0.0                        0.0  \n",
       "\n",
       "[5 rows x 420 columns]"
      ]
     },
     "execution_count": 25,
     "metadata": {},
     "output_type": "execute_result"
    }
   ],
   "source": [
    "df = pd.read_csv('data/house_price_water_quality.csv').astype('float32')\n",
    "df.head()"
   ]
  },
  {
   "cell_type": "code",
   "execution_count": 26,
   "id": "72a29b03",
   "metadata": {},
   "outputs": [],
   "source": [
    "df = df[~df.isin([np.nan, np.inf, -np.inf]).any(1)]"
   ]
  },
  {
   "cell_type": "code",
   "execution_count": 27,
   "id": "d3ba3b70",
   "metadata": {},
   "outputs": [],
   "source": [
    "scaler = MinMaxScaler()\n",
    "scaled_df = scaler.fit_transform(df)"
   ]
  },
  {
   "cell_type": "code",
   "execution_count": 28,
   "id": "07a5134b",
   "metadata": {},
   "outputs": [
    {
     "data": {
      "text/plain": [
       "array([[1.1670400e-01, 2.4199995e-05, 1.0000000e+00, ..., 0.0000000e+00,\n",
       "        0.0000000e+00, 0.0000000e+00],\n",
       "       [1.1670400e-01, 1.9999996e-07, 0.0000000e+00, ..., 0.0000000e+00,\n",
       "        0.0000000e+00, 0.0000000e+00],\n",
       "       [1.1670400e-01, 7.2199990e-05, 1.0000000e+00, ..., 0.0000000e+00,\n",
       "        0.0000000e+00, 0.0000000e+00],\n",
       "       ...,\n",
       "       [2.3061822e-01, 8.3799987e-06, 1.0000000e+00, ..., 0.0000000e+00,\n",
       "        0.0000000e+00, 0.0000000e+00],\n",
       "       [2.3061822e-01, 1.3799997e-05, 1.0000000e+00, ..., 0.0000000e+00,\n",
       "        0.0000000e+00, 0.0000000e+00],\n",
       "       [2.3061822e-01, 1.7099997e-06, 1.0000000e+00, ..., 0.0000000e+00,\n",
       "        0.0000000e+00, 0.0000000e+00]], dtype=float32)"
      ]
     },
     "execution_count": 28,
     "metadata": {},
     "output_type": "execute_result"
    }
   ],
   "source": [
    "scaled_df"
   ]
  },
  {
   "cell_type": "code",
   "execution_count": 30,
   "id": "f97f54e1",
   "metadata": {},
   "outputs": [],
   "source": [
    "y = scaled_df[:,0]\n",
    "X = scaled_df[:,1:]"
   ]
  },
  {
   "cell_type": "code",
   "execution_count": 31,
   "id": "6e1fbee5",
   "metadata": {},
   "outputs": [],
   "source": [
    "X_train, X_test, y_train, y_test = train_test_split(X, y, test_size=0.3, random_state=123)"
   ]
  },
  {
   "cell_type": "code",
   "execution_count": 32,
   "id": "9da89c55",
   "metadata": {},
   "outputs": [],
   "source": [
    "X_train = X_train.reshape(X_train.shape[0], 1, X_train.shape[1])\n",
    "X_test = X_test.reshape(X_test.shape[0], 1, X_test.shape[1])"
   ]
  },
  {
   "cell_type": "code",
   "execution_count": 33,
   "id": "a81fb179",
   "metadata": {},
   "outputs": [],
   "source": [
    "regressor = Sequential()\n",
    "num_units = 100\n",
    "drop_value = 0.2\n",
    "regressor.add(LSTM(num_units, input_shape=(X_train.shape[1], X_train.shape[2])))\n",
    "regressor.add(Dropout(drop_value))\n",
    "regressor.add(Dense(units = 1))"
   ]
  },
  {
   "cell_type": "code",
   "execution_count": 34,
   "id": "75de456d",
   "metadata": {},
   "outputs": [],
   "source": [
    "optimizer = keras.optimizers.Adam(clipvalue=0.5)\n",
    "regressor.compile(optimizer=optimizer, loss='mean_squared_error')"
   ]
  },
  {
   "cell_type": "code",
   "execution_count": 35,
   "id": "1ed4d8b3",
   "metadata": {},
   "outputs": [
    {
     "name": "stdout",
     "output_type": "stream",
     "text": [
      "Epoch 1/20\n",
      "7195/7195 [==============================] - 30s 4ms/step - loss: 0.0021 - val_loss: 0.0015\n",
      "Epoch 2/20\n",
      "7195/7195 [==============================] - 25s 3ms/step - loss: 0.0015 - val_loss: 0.0014\n",
      "Epoch 3/20\n",
      "7195/7195 [==============================] - 28s 4ms/step - loss: 0.0014 - val_loss: 0.0013\n",
      "Epoch 4/20\n",
      "7195/7195 [==============================] - 27s 4ms/step - loss: 0.0014 - val_loss: 0.0013\n",
      "Epoch 5/20\n",
      "7195/7195 [==============================] - 26s 4ms/step - loss: 0.0013 - val_loss: 0.0012\n",
      "Epoch 6/20\n",
      "7195/7195 [==============================] - 27s 4ms/step - loss: 0.0013 - val_loss: 0.0012\n",
      "Epoch 7/20\n",
      "7195/7195 [==============================] - 24s 3ms/step - loss: 0.0012 - val_loss: 0.0012\n",
      "Epoch 8/20\n",
      "7195/7195 [==============================] - 28s 4ms/step - loss: 0.0012 - val_loss: 0.0010\n",
      "Epoch 9/20\n",
      "7195/7195 [==============================] - 33s 5ms/step - loss: 0.0011 - val_loss: 9.2110e-04\n",
      "Epoch 10/20\n",
      "7195/7195 [==============================] - 25s 3ms/step - loss: 0.0010 - val_loss: 8.1917e-04\n",
      "Epoch 11/20\n",
      "7195/7195 [==============================] - 29s 4ms/step - loss: 9.2646e-04 - val_loss: 7.1182e-04\n",
      "Epoch 12/20\n",
      "7195/7195 [==============================] - 37s 5ms/step - loss: 8.4667e-04 - val_loss: 6.2738e-04\n",
      "Epoch 13/20\n",
      "7195/7195 [==============================] - 25s 3ms/step - loss: 7.7625e-04 - val_loss: 5.5938e-04\n",
      "Epoch 14/20\n",
      "7195/7195 [==============================] - 28s 4ms/step - loss: 7.1768e-04 - val_loss: 5.0964e-04\n",
      "Epoch 15/20\n",
      "7195/7195 [==============================] - 25s 3ms/step - loss: 6.6864e-04 - val_loss: 4.9274e-04\n",
      "Epoch 16/20\n",
      "7195/7195 [==============================] - 26s 4ms/step - loss: 6.3019e-04 - val_loss: 4.4941e-04\n",
      "Epoch 17/20\n",
      "7195/7195 [==============================] - 26s 4ms/step - loss: 5.9829e-04 - val_loss: 4.1339e-04\n",
      "Epoch 18/20\n",
      "7195/7195 [==============================] - 31s 4ms/step - loss: 5.6862e-04 - val_loss: 3.9242e-04\n",
      "Epoch 19/20\n",
      "7195/7195 [==============================] - 32s 4ms/step - loss: 5.4514e-04 - val_loss: 3.7249e-04\n",
      "Epoch 20/20\n",
      "7195/7195 [==============================] - 32s 4ms/step - loss: 5.2287e-04 - val_loss: 3.5601e-04\n"
     ]
    }
   ],
   "source": [
    "history = regressor.fit(\n",
    "    X_train, \n",
    "    y_train, \n",
    "    validation_data=(X_test, y_test), \n",
    "    epochs=20, \n",
    "    batch_size=64, \n",
    "    verbose=1, \n",
    "    shuffle=True)"
   ]
  },
  {
   "cell_type": "code",
   "execution_count": 49,
   "id": "e46592c7",
   "metadata": {},
   "outputs": [
    {
     "data": {
      "text/plain": [
       "array([ 20000,  21000,  22000,  23000,  24000,  25000,  26000,  27000,\n",
       "        28000,  29000,  30000,  31000,  32000,  33000,  34000,  35000,\n",
       "        36000,  37000,  38000,  39000,  40000,  41000,  42000,  43000,\n",
       "        44000,  45000,  46000,  47000,  48000,  49000,  50000,  51000,\n",
       "        52000,  53000,  54000,  55000,  56000,  57000,  58000,  59000,\n",
       "        60000,  61000,  62000,  63000,  64000,  65000,  66000,  67000,\n",
       "        68000,  69000,  70000,  71000,  72000,  73000,  74000,  75000,\n",
       "        76000,  77000,  78000,  79000,  80000,  81000,  82000,  83000,\n",
       "        84000,  85000,  86000,  87000,  88000,  89000,  90000,  91000,\n",
       "        92000,  93000,  94000,  95000,  96000,  97000,  98000,  99000,\n",
       "       100000, 101000, 102000, 103000, 104000, 105000, 106000, 107000,\n",
       "       108000, 109000, 110000, 111000, 112000, 113000, 114000, 115000,\n",
       "       116000, 117000, 118000, 119000, 120000, 121000, 122000, 123000,\n",
       "       124000, 125000, 126000, 127000, 128000, 129000, 130000, 131000,\n",
       "       132000, 133000, 134000, 135000, 136000, 137000, 138000, 139000,\n",
       "       140000, 141000, 142000, 143000, 144000, 145000, 146000, 147000,\n",
       "       148000, 149000, 150000, 151000, 152000, 153000, 154000, 155000,\n",
       "       156000, 157000, 158000, 159000, 160000, 161000, 162000, 163000,\n",
       "       164000, 165000, 166000, 167000, 168000, 169000, 170000, 171000,\n",
       "       172000, 173000, 174000, 175000, 176000, 177000, 178000, 179000,\n",
       "       180000, 181000, 182000, 183000, 184000, 185000, 186000, 187000,\n",
       "       188000, 189000, 190000, 191000, 192000, 193000, 194000, 195000,\n",
       "       196000, 197000, 198000, 199000])"
      ]
     },
     "execution_count": 49,
     "metadata": {},
     "output_type": "execute_result"
    }
   ],
   "source": [
    "np.arange(20000, 200000, 1000)"
   ]
  },
  {
   "cell_type": "code",
   "execution_count": 55,
   "id": "c8599e07",
   "metadata": {},
   "outputs": [
    {
     "data": {
      "image/png": "[encoded data removed]",
      "text/plain": [
       "<Figure size 432x288 with 1 Axes>"
      ]
     },
     "metadata": {
      "needs_background": "light"
     },
     "output_type": "display_data"
    }
   ],
   "source": [
    "plt.plot([550000 * math.sqrt(loss) for loss in history.history['loss']],'r',linewidth=2, label='Val loss')\n",
    "plt.plot([550000 * math.sqrt(loss) for loss in history.history['val_loss']], 'g',linewidth=2, label='Train loss')\n",
    "plt.title('LSTM')\n",
    "plt.xlabel('Epochs')\n",
    "plt.ylabel('RMSE')\n",
    "plt.legend()\n",
    "plt.show()"
   ]
  },
  {
   "cell_type": "code",
   "execution_count": 37,
   "id": "5a184b6d",
   "metadata": {},
   "outputs": [],
   "source": [
    "preds = regressor.predict(X_test).squeeze()"
   ]
  },
  {
   "cell_type": "code",
   "execution_count": 38,
   "id": "0f0a132a",
   "metadata": {},
   "outputs": [
    {
     "data": {
      "text/plain": [
       "0.9577658176422119"
      ]
     },
     "execution_count": 38,
     "metadata": {},
     "output_type": "execute_result"
    }
   ],
   "source": [
    "explained_variance_score(preds, y_test)"
   ]
  },
  {
   "cell_type": "code",
   "execution_count": 35,
   "id": "a78eb38e",
   "metadata": {},
   "outputs": [
    {
     "data": {
      "image/png": "[encoded data removed]",
      "text/plain": [
       "<Figure size 1440x360 with 1 Axes>"
      ]
     },
     "metadata": {
      "needs_background": "light"
     },
     "output_type": "display_data"
    }
   ],
   "source": [
    "x_axis = range(0, 100)\n",
    "\n",
    "fig, ax = pyplot.subplots(figsize=(20,5))\n",
    "ax.plot(x_axis, preds[:100], label='Prediction')\n",
    "ax.plot(x_axis, y_test[:100], label='Ground Truth')\n",
    "ax.legend()\n",
    "\n",
    "pyplot.ylabel('House Price')\n",
    "pyplot.title('LSTM Prediction vs. Ground Truth')\n",
    "pyplot.show()"
   ]
  },
  {
   "cell_type": "code",
   "execution_count": 3,
   "id": "b73948f3",
   "metadata": {},
   "outputs": [],
   "source": [
    "df = pd.read_csv('data/house_price_air_quality.csv').astype('float32')\n",
    "df.drop(['Year'], axis=1, inplace=True)\n",
    "df = df[~df.isin([np.nan, np.inf, -np.inf]).any(1)]\n",
    "scaler = MinMaxScaler()\n",
    "scaled_df = scaler.fit_transform(df)\n",
    "y = scaled_df[:,0]\n",
    "X = scaled_df[:,1:]\n",
    "X_train, X_test, y_train, y_test = train_test_split(X, y, test_size=0.3, random_state=123)\n",
    "X_train = X_train.reshape(X_train.shape[0], 1, X_train.shape[1])\n",
    "X_test = X_test.reshape(X_test.shape[0], 1, X_test.shape[1])"
   ]
  },
  {
   "cell_type": "code",
   "execution_count": 4,
   "id": "5fe80d44",
   "metadata": {},
   "outputs": [
    {
     "name": "stderr",
     "output_type": "stream",
     "text": [
      "2022-04-21 21:34:42.012464: I tensorflow/core/platform/cpu_feature_guard.cc:142] This TensorFlow binary is optimized with oneAPI Deep Neural Network Library (oneDNN) to use the following CPU instructions in performance-critical operations:  AVX2 FMA\n",
      "To enable them in other operations, rebuild TensorFlow with the appropriate compiler flags.\n",
      "2022-04-21 21:34:42.543806: I tensorflow/compiler/mlir/mlir_graph_optimization_pass.cc:185] None of the MLIR Optimization Passes are enabled (registered 2)\n"
     ]
    },
    {
     "name": "stdout",
     "output_type": "stream",
     "text": [
      "Epoch 1/20\n",
      "3632/3632 [==============================] - 12s 3ms/step - loss: 0.0023 - val_loss: 0.0016\n",
      "Epoch 2/20\n",
      "3632/3632 [==============================] - 10s 3ms/step - loss: 0.0016 - val_loss: 0.0014\n",
      "Epoch 3/20\n",
      "3632/3632 [==============================] - 10s 3ms/step - loss: 0.0014 - val_loss: 0.0013\n",
      "Epoch 4/20\n",
      "3632/3632 [==============================] - 10s 3ms/step - loss: 0.0014 - val_loss: 0.0013\n",
      "Epoch 5/20\n",
      "3632/3632 [==============================] - 10s 3ms/step - loss: 0.0013 - val_loss: 0.0012\n",
      "Epoch 6/20\n",
      "3632/3632 [==============================] - 10s 3ms/step - loss: 0.0013 - val_loss: 0.0013\n",
      "Epoch 7/20\n",
      "3632/3632 [==============================] - 10s 3ms/step - loss: 0.0013 - val_loss: 0.0012\n",
      "Epoch 8/20\n",
      "3632/3632 [==============================] - 10s 3ms/step - loss: 0.0013 - val_loss: 0.0012\n",
      "Epoch 9/20\n",
      "3632/3632 [==============================] - 10s 3ms/step - loss: 0.0013 - val_loss: 0.0012\n",
      "Epoch 10/20\n",
      "3632/3632 [==============================] - 10s 3ms/step - loss: 0.0012 - val_loss: 0.0012\n",
      "Epoch 11/20\n",
      "3632/3632 [==============================] - 10s 3ms/step - loss: 0.0012 - val_loss: 0.0011\n",
      "Epoch 12/20\n",
      "3632/3632 [==============================] - 10s 3ms/step - loss: 0.0012 - val_loss: 0.0011\n",
      "Epoch 13/20\n",
      "3632/3632 [==============================] - 10s 3ms/step - loss: 0.0012 - val_loss: 0.0011\n",
      "Epoch 14/20\n",
      "3632/3632 [==============================] - 10s 3ms/step - loss: 0.0012 - val_loss: 0.0011\n",
      "Epoch 15/20\n",
      "3632/3632 [==============================] - 10s 3ms/step - loss: 0.0011 - val_loss: 0.0010\n",
      "Epoch 16/20\n",
      "3632/3632 [==============================] - 9s 3ms/step - loss: 0.0011 - val_loss: 0.0010\n",
      "Epoch 17/20\n",
      "3632/3632 [==============================] - 10s 3ms/step - loss: 0.0011 - val_loss: 9.5807e-04\n",
      "Epoch 18/20\n",
      "3632/3632 [==============================] - 10s 3ms/step - loss: 0.0011 - val_loss: 9.2992e-04\n",
      "Epoch 19/20\n",
      "3632/3632 [==============================] - 10s 3ms/step - loss: 0.0010 - val_loss: 8.6928e-04\n",
      "Epoch 20/20\n",
      "3632/3632 [==============================] - 10s 3ms/step - loss: 9.8612e-04 - val_loss: 8.2428e-04\n"
     ]
    }
   ],
   "source": [
    "regressor = Sequential()\n",
    "num_units = 100\n",
    "drop_value = 0.2\n",
    "regressor.add(LSTM(num_units, input_shape=(X_train.shape[1], X_train.shape[2])))\n",
    "regressor.add(Dropout(drop_value))\n",
    "regressor.add(Dense(units = 1))\n",
    "optimizer = keras.optimizers.Adam(clipvalue=0.5)\n",
    "regressor.compile(optimizer=optimizer, loss='mean_squared_error')\n",
    "history = regressor.fit(\n",
    "    X_train, \n",
    "    y_train, \n",
    "    validation_data=(X_test, y_test), \n",
    "    epochs=20, \n",
    "    batch_size=64, \n",
    "    verbose=1, \n",
    "    shuffle=True)"
   ]
  },
  {
   "cell_type": "code",
   "execution_count": 5,
   "id": "c1fb61b4",
   "metadata": {},
   "outputs": [
    {
     "data": {
      "image/png": "[encoded data removed]",
      "text/plain": [
       "<Figure size 432x288 with 1 Axes>"
      ]
     },
     "metadata": {
      "needs_background": "light"
     },
     "output_type": "display_data"
    }
   ],
   "source": [
    "plt.plot([1150000 * math.sqrt(loss) for loss in history.history['loss']],'r',linewidth=2, label='Val loss')\n",
    "plt.plot([1150000 * math.sqrt(loss) for loss in history.history['val_loss']] , 'g',linewidth=2, label='Train loss')\n",
    "plt.title('LSTM')\n",
    "plt.xlabel('Epochs')\n",
    "plt.ylabel('RMSE')\n",
    "plt.legend()\n",
    "plt.show()"
   ]
  },
  {
   "cell_type": "code",
   "execution_count": 63,
   "id": "c39c61a4",
   "metadata": {},
   "outputs": [
    {
     "data": {
      "text/plain": [
       "0.9298391938209534"
      ]
     },
     "execution_count": 63,
     "metadata": {},
     "output_type": "execute_result"
    }
   ],
   "source": [
    "preds = regressor.predict(X_test).squeeze()\n",
    "explained_variance_score(preds, y_test)"
   ]
  },
  {
   "cell_type": "code",
   "execution_count": 64,
   "id": "5521ddb5",
   "metadata": {},
   "outputs": [],
   "source": [
    "df = pd.read_csv('data/house_price_oil_wells.csv').astype('float32')\n",
    "df = df[~df.isin([np.nan, np.inf, -np.inf]).any(1)]\n",
    "scaler = MinMaxScaler()\n",
    "scaled_df = scaler.fit_transform(df)\n",
    "y = scaled_df[:,0]\n",
    "X = scaled_df[:,1:]\n",
    "X_train, X_test, y_train, y_test = train_test_split(X, y, test_size=0.3, random_state=123)\n",
    "X_train = X_train.reshape(X_train.shape[0], 1, X_train.shape[1])\n",
    "X_test = X_test.reshape(X_test.shape[0], 1, X_test.shape[1])"
   ]
  },
  {
   "cell_type": "code",
   "execution_count": 65,
   "id": "378ba7b4",
   "metadata": {},
   "outputs": [
    {
     "name": "stdout",
     "output_type": "stream",
     "text": [
      "Epoch 1/20\n",
      "151/151 [==============================] - 2s 5ms/step - loss: 0.0082 - val_loss: 0.0034\n",
      "Epoch 2/20\n",
      "151/151 [==============================] - 0s 3ms/step - loss: 0.0034 - val_loss: 0.0031\n",
      "Epoch 3/20\n",
      "151/151 [==============================] - 1s 4ms/step - loss: 0.0031 - val_loss: 0.0029\n",
      "Epoch 4/20\n",
      "151/151 [==============================] - 1s 6ms/step - loss: 0.0028 - val_loss: 0.0026\n",
      "Epoch 5/20\n",
      "151/151 [==============================] - 1s 4ms/step - loss: 0.0025 - val_loss: 0.0024\n",
      "Epoch 6/20\n",
      "151/151 [==============================] - 1s 4ms/step - loss: 0.0023 - val_loss: 0.0022\n",
      "Epoch 7/20\n",
      "151/151 [==============================] - 1s 4ms/step - loss: 0.0021 - val_loss: 0.0020\n",
      "Epoch 8/20\n",
      "151/151 [==============================] - 0s 3ms/step - loss: 0.0021 - val_loss: 0.0019\n",
      "Epoch 9/20\n",
      "151/151 [==============================] - 1s 3ms/step - loss: 0.0019 - val_loss: 0.0018\n",
      "Epoch 10/20\n",
      "151/151 [==============================] - 0s 3ms/step - loss: 0.0019 - val_loss: 0.0018\n",
      "Epoch 11/20\n",
      "151/151 [==============================] - 1s 3ms/step - loss: 0.0019 - val_loss: 0.0018\n",
      "Epoch 12/20\n",
      "151/151 [==============================] - 1s 5ms/step - loss: 0.0018 - val_loss: 0.0018\n",
      "Epoch 13/20\n",
      "151/151 [==============================] - 1s 4ms/step - loss: 0.0018 - val_loss: 0.0018\n",
      "Epoch 14/20\n",
      "151/151 [==============================] - 1s 4ms/step - loss: 0.0018 - val_loss: 0.0018\n",
      "Epoch 15/20\n",
      "151/151 [==============================] - 1s 4ms/step - loss: 0.0018 - val_loss: 0.0017\n",
      "Epoch 16/20\n",
      "151/151 [==============================] - 1s 4ms/step - loss: 0.0018 - val_loss: 0.0018\n",
      "Epoch 17/20\n",
      "151/151 [==============================] - 0s 3ms/step - loss: 0.0018 - val_loss: 0.0017\n",
      "Epoch 18/20\n",
      "151/151 [==============================] - 1s 3ms/step - loss: 0.0017 - val_loss: 0.0017\n",
      "Epoch 19/20\n",
      "151/151 [==============================] - 0s 3ms/step - loss: 0.0017 - val_loss: 0.0017\n",
      "Epoch 20/20\n",
      "151/151 [==============================] - 1s 3ms/step - loss: 0.0017 - val_loss: 0.0017\n"
     ]
    }
   ],
   "source": [
    "regressor = Sequential()\n",
    "num_units = 100\n",
    "drop_value = 0.2\n",
    "regressor.add(LSTM(num_units, input_shape=(X_train.shape[1], X_train.shape[2])))\n",
    "regressor.add(Dropout(drop_value))\n",
    "regressor.add(Dense(units = 1))\n",
    "optimizer = keras.optimizers.Adam(clipvalue=0.5)\n",
    "regressor.compile(optimizer=optimizer, loss='mean_squared_error')\n",
    "history = regressor.fit(\n",
    "    X_train, \n",
    "    y_train, \n",
    "    validation_data=(X_test, y_test), \n",
    "    epochs=20, \n",
    "    batch_size=64, \n",
    "    verbose=1, \n",
    "    shuffle=True)"
   ]
  },
  {
   "cell_type": "code",
   "execution_count": 68,
   "id": "61c56aab",
   "metadata": {},
   "outputs": [
    {
     "data": {
      "image/png": "[encoded data removed]",
      "text/plain": [
       "<Figure size 432x288 with 1 Axes>"
      ]
     },
     "metadata": {
      "needs_background": "light"
     },
     "output_type": "display_data"
    }
   ],
   "source": [
    "plt.plot([950000 * math.sqrt(loss) for loss in history.history['loss']],'r',linewidth=2, label='Val loss')\n",
    "plt.plot([950000 * math.sqrt(loss) for loss in history.history['val_loss']] , 'g',linewidth=2, label='Train loss')\n",
    "plt.title('LSTM')\n",
    "plt.xlabel('Epochs')\n",
    "plt.ylabel('RMSE')\n",
    "plt.legend()\n",
    "plt.show()"
   ]
  },
  {
   "cell_type": "code",
   "execution_count": 45,
   "id": "be0f4ef7",
   "metadata": {},
   "outputs": [
    {
     "data": {
      "text/plain": [
       "0.8297487497329712"
      ]
     },
     "execution_count": 45,
     "metadata": {},
     "output_type": "execute_result"
    }
   ],
   "source": [
    "preds = regressor.predict(X_test).squeeze()\n",
    "explained_variance_score(preds, y_test)"
   ]
  }
 ],
 "metadata": {
  "kernelspec": {
   "display_name": "Python 3 (ipykernel)",
   "language": "python",
   "name": "python3"
  },
  "language_info": {
   "codemirror_mode": {
    "name": "ipython",
    "version": 3
   },
   "file_extension": ".py",
   "mimetype": "text/x-python",
   "name": "python",
   "nbconvert_exporter": "python",
   "pygments_lexer": "ipython3",
   "version": "3.8.9"
  }
 },
 "nbformat": 4,
 "nbformat_minor": 5
}
